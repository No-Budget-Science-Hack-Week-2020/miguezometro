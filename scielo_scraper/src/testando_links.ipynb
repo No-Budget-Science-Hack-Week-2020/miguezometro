{
  "nbformat": 4,
  "nbformat_minor": 0,
  "metadata": {
    "colab": {
      "name": "testando_links.ipynb",
      "provenance": []
    },
    "kernelspec": {
      "name": "python3",
      "display_name": "Python 3"
    }
  },
  "cells": [
    {
      "cell_type": "markdown",
      "metadata": {
        "id": "1Fy77mNcPGld",
        "colab_type": "text"
      },
      "source": [
        "# NoBudgetScience - Miguezômetro - Links quebrados no Scielo\n",
        "\n",
        "Esse notebook contém os passos para poder executar a testagem de links dos artigos do Scielo. \n",
        "\n",
        "Para rodar cada célula clique no botão de play no lado esquerdo ou tecle \"ctrl+enter\"."
      ]
    },
    {
      "cell_type": "markdown",
      "metadata": {
        "id": "eGdBFct6PGXR",
        "colab_type": "text"
      },
      "source": [
        "\n",
        "# Configuração do ambiente\n",
        "\n",
        "Primeiramente, é necessário que este notebook tenha acesso aos dados do drive, que será de onde você vai ler as dataframes, portanto, rode a próxima célula, autorize a montagem, e pode seguir em frente.\n"
      ]
    },
    {
      "cell_type": "code",
      "metadata": {
        "id": "al2xW2VojM_o",
        "colab_type": "code",
        "colab": {}
      },
      "source": [
        "from google.colab import drive\n",
        "drive.mount('/content/drive')"
      ],
      "execution_count": null,
      "outputs": []
    },
    {
      "cell_type": "markdown",
      "metadata": {
        "id": "fZFSfw4xkaNp",
        "colab_type": "text"
      },
      "source": [
        "Esses são os dados que iremos usar, temos que decidir como vamos dividí-los entre nós."
      ]
    },
    {
      "cell_type": "code",
      "metadata": {
        "id": "CFiMy_xDjUbe",
        "colab_type": "code",
        "colab": {}
      },
      "source": [
        "!ls drive/'Shared drives'/'Projeto Miguezômetro'/Dados/dividido_por_journal"
      ],
      "execution_count": null,
      "outputs": []
    },
    {
      "cell_type": "markdown",
      "metadata": {
        "id": "4xeErvrTkmmL",
        "colab_type": "text"
      },
      "source": [
        "# Carregue as bibliotecas e inicialize a função"
      ]
    },
    {
      "cell_type": "code",
      "metadata": {
        "id": "-t_MzXfZJhho",
        "colab_type": "code",
        "colab": {}
      },
      "source": [
        "import requests\n",
        "import pandas as pd"
      ],
      "execution_count": null,
      "outputs": []
    },
    {
      "cell_type": "code",
      "metadata": {
        "id": "iATXdkItJkq8",
        "colab_type": "code",
        "colab": {}
      },
      "source": [
        "def test_if_link_works(url):\n",
        "\n",
        "    try:\n",
        "        response = requests.get(url)\n",
        "    except:\n",
        "        return False\n",
        "    else:\n",
        "        if response.status_code != requests.codes.ok:\n",
        "            return False\n",
        "        else:\n",
        "            return True\n"
      ],
      "execution_count": null,
      "outputs": []
    },
    {
      "cell_type": "markdown",
      "metadata": {
        "id": "ttLl0gAAkyNz",
        "colab_type": "text"
      },
      "source": [
        "# Análise dos links"
      ]
    },
    {
      "cell_type": "markdown",
      "metadata": {
        "id": "sZ587QZzmvM-",
        "colab_type": "text"
      },
      "source": [
        "Mude a variável arquivo_que_vc_vai_testar para que seja o id do journal que você vai usar pra sua análise"
      ]
    },
    {
      "cell_type": "code",
      "metadata": {
        "id": "67BJEei7Jwr5",
        "colab_type": "code",
        "colab": {}
      },
      "source": [
        "arquivo_que_vc_vai_testar = \"1809-5267\"\n",
        "caminho_para_arquivo = f\"drive/Shared drives/Projeto Miguezômetro/Dados/dividido_por_journal/{arquivo_que_vc_vai_testar}_info.csv\""
      ],
      "execution_count": null,
      "outputs": []
    },
    {
      "cell_type": "code",
      "metadata": {
        "id": "9b10G3PklFKr",
        "colab_type": "code",
        "colab": {}
      },
      "source": [
        "df = pd.read_csv(caminho_para_arquivo)"
      ],
      "execution_count": null,
      "outputs": []
    },
    {
      "cell_type": "markdown",
      "metadata": {
        "id": "GPt4vFSDlP7y",
        "colab_type": "text"
      },
      "source": [
        "Essa é a tabela que você carregou para a sua análise:"
      ]
    },
    {
      "cell_type": "code",
      "metadata": {
        "id": "MhyQgkbvlIAN",
        "colab_type": "code",
        "colab": {}
      },
      "source": [
        "df"
      ],
      "execution_count": null,
      "outputs": []
    },
    {
      "cell_type": "markdown",
      "metadata": {
        "id": "jL2TQqujlU4L",
        "colab_type": "text"
      },
      "source": [
        "Ok, agora vamos testar todos os links. Como falado anteriormente, esse passo é demorado e a eficiência vai depender da quantidade de links que você tem em sua tabela e a velocidade da sua conexão."
      ]
    },
    {
      "cell_type": "code",
      "metadata": {
        "id": "qfnMzMXulNDQ",
        "colab_type": "code",
        "colab": {}
      },
      "source": [
        "df['link_funciona'] = df['links'].apply(lambda url: test_if_link_works(url))"
      ],
      "execution_count": null,
      "outputs": []
    },
    {
      "cell_type": "markdown",
      "metadata": {
        "id": "k8NMI8KKm3-C",
        "colab_type": "text"
      },
      "source": [
        "Agora que testamos todos os links, vamos salvar o dado final processado."
      ]
    },
    {
      "cell_type": "code",
      "metadata": {
        "id": "L2joV7cvm0mS",
        "colab_type": "code",
        "colab": {}
      },
      "source": [
        "df.to_csv(f\"drive/Shared drives/Projeto Miguezômetro/Dados/divididos_por_journal_testados/{arquivo_que_vc_vai_testar}_testado.csv\", index=False)"
      ],
      "execution_count": null,
      "outputs": []
    }
  ]
}